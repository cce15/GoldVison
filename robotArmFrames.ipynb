{
  "cells": [
    {
      "cell_type": "markdown",
      "metadata": {
        "id": "view-in-github",
        "colab_type": "text"
      },
      "source": [
        "<a href=\"https://colab.research.google.com/github/cce15/GoldVison/blob/main/robotArmFrames.ipynb\" target=\"_parent\"><img src=\"https://colab.research.google.com/assets/colab-badge.svg\" alt=\"Open In Colab\"/></a>"
      ]
    },
    {
      "cell_type": "code",
      "execution_count": null,
      "id": "312fd7bf",
      "metadata": {
        "colab": {
          "base_uri": "https://localhost:8080/",
          "height": 35
        },
        "id": "312fd7bf",
        "outputId": "4e6a4d81-6c37-486d-c63f-da9340492481"
      },
      "outputs": [
        {
          "output_type": "execute_result",
          "data": {
            "text/plain": [
              "' Kinematic chain of a robot arm (planar)\\n    Assignment \\n'"
            ],
            "application/vnd.google.colaboratory.intrinsic+json": {
              "type": "string"
            }
          },
          "metadata": {},
          "execution_count": 1
        }
      ],
      "source": [
        "\"\"\" Kinematic chain of a robot arm (planar)\n",
        "    Assignment\n",
        "\"\"\""
      ]
    },
    {
      "cell_type": "markdown",
      "id": "ba6568e4",
      "metadata": {
        "id": "ba6568e4"
      },
      "source": [
        "\n",
        "![](https://github.com/eraldoribeiro/assignment_robotarm2D/blob/main/robotArm01.png?raw=1)\n",
        "*Figure 1*: A two-dimensional articulated arm. The articulated structure has 3 local coordinate frames each one centered at a joint. For each part, the local x-axis is aligned with the part.  \n",
        "\n",
        "Consider the arm structure shown in Figure 1. Assume the following values for the arm configuration:\n",
        "- The location of the first joint (i.e., the one that is attached to the ground support) is ${\\bf p}_1 = \\left(3,2\\right)^\\mathsf{T}$.\n",
        "- The lengths of the parts are $L_1 = 5$ and  $L_2 = 8$."
      ]
    },
    {
      "cell_type": "code",
      "execution_count": 6,
      "id": "2a4e0632",
      "metadata": {
        "id": "2a4e0632"
      },
      "outputs": [],
      "source": [
        "import numpy as np\n",
        "import math as mph\n",
        "import matplotlib.pyplot as plt\n"
      ]
    },
    {
      "cell_type": "markdown",
      "id": "0b27c659",
      "metadata": {
        "id": "0b27c659"
      },
      "source": [
        "### Question 1\n",
        "\n",
        "Write the matrices that represent the local coordinate frames $\\mathcal F\\{1\\}$, $\\mathcal F\\{2\\}$, and $\\mathcal F\\{3\\}$. These frames are indicated in green in Figure 1. The transformation matrices you need to write are $T_{0,1}$, $T_{1,2}$, and $T_{2,3}$."
      ]
    },
    {
      "cell_type": "code",
      "execution_count": 11,
      "id": "5ddc94ae",
      "metadata": {
        "id": "5ddc94ae",
        "colab": {
          "base_uri": "https://localhost:8080/"
        },
        "outputId": "92a0467c-01a3-4ee0-bf08-49458db012a2"
      },
      "outputs": [
        {
          "output_type": "stream",
          "name": "stdout",
          "text": [
            "T01 [[ 0.92387953 -0.38268343  3.        ]\n",
            " [ 0.38268343  0.92387953  2.        ]\n",
            " [ 0.          0.          1.        ]]\n",
            "T12 [[ 0.70710678 -0.70710678  5.        ]\n",
            " [ 0.70710678  0.70710678  0.        ]\n",
            " [ 0.          0.          1.        ]]\n",
            "T23 [[ 1. -0.  8.]\n",
            " [ 0.  1.  0.]\n",
            " [ 0.  0.  1.]]\n"
          ]
        }
      ],
      "source": [
        "# Answer goes here. Add more code/markdown cells as needed\n",
        "\n",
        "# Given Values\n",
        "phi_1= np.pi/8 # First angle\n",
        "phi_2= np.pi/4 # Second angle\n",
        "phi_3=0 # The angle of the last frame is zero because it is aligned with the previous frame\n",
        "L1=5 # Length of the arm 1\n",
        "L2=8 # Length of the arm 2\n",
        "p0= np.array([3,2]) # Location of the first joint\n",
        "\n",
        "# Frame {01}\n",
        "T01= np.array([[np.cos(phi_1),-np.sin(phi_1),p0[0]]\n",
        "               ,[np.sin(phi_1),np.cos(phi_1),p0[1]],\n",
        "                [0            ,0            ,1]])\n",
        "\n",
        "print(f\"T01 {T01}\")\n",
        "\n",
        "# Frame {12}\n",
        "T12= np.array([[np.cos(phi_2),-np.sin(phi_2),L1]\n",
        "               ,[np.sin(phi_2),np.cos(phi_2),0],\n",
        "                [0            ,0            ,1]])\n",
        "print(f\"T12 {T12}\")\n",
        "\n",
        "# Frame {23}\n",
        "T23= np.array([[np.cos(phi_3),-np.sin(phi_3),L2]\n",
        "               ,[np.sin(phi_3),np.cos(phi_3),0],\n",
        "                [0            ,0            ,1]])\n",
        "print(f\"T23 {T23}\")"
      ]
    },
    {
      "cell_type": "code",
      "source": [
        "# Plot the robotic arm\n",
        "\n",
        "# Calculate the positions of the joints\n",
        "p1 = np.array([3, 2])\n",
        "p2 = np.dot(T01[:2,:2], np.array([L1, 0])) + T01[:2,2]\n",
        "p3 = np.dot(np.dot(T01[:2,:2],T12[:2,:2]),np.array([L2, 0])) + np.dot(T01[:2,:2],T12[:2,2])+ T01[:2,2]\n",
        "\n",
        "# Plot the arm\n",
        "plt.figure(figsize=(6, 6))\n",
        "plt.plot([p1[0], p2[0]], [p1[1], p2[1]], 'b-', linewidth=2)\n",
        "plt.plot([p2[0], p3[0]], [p2[1], p3[1]], 'r-', linewidth=2)\n",
        "\n",
        "# Plot the joints\n",
        "plt.plot(p1[0], p1[1], 'go', markersize=8)\n",
        "plt.plot(p2[0], p2[1], 'go', markersize=8)\n",
        "plt.plot(p3[0], p3[1], 'go', markersize=8)\n",
        "\n",
        "\n",
        "# Add labels and title\n",
        "plt.xlabel('X')\n",
        "plt.ylabel('Y')\n",
        "plt.title('2D Robotic Arm')\n",
        "plt.grid(True)\n",
        "plt.xlim([0, 15])\n",
        "plt.ylim([0, 15])\n",
        "plt.show()\n"
      ],
      "metadata": {
        "id": "koyMnxravIvr",
        "outputId": "701df3f1-c0d3-4590-ae98-b80efd195d86",
        "colab": {
          "base_uri": "https://localhost:8080/",
          "height": 564
        }
      },
      "id": "koyMnxravIvr",
      "execution_count": 12,
      "outputs": [
        {
          "output_type": "display_data",
          "data": {
            "text/plain": [
              "<Figure size 600x600 with 1 Axes>"
            ],
            "image/png": "[encoded data removed]"
          },
          "metadata": {}
        }
      ]
    },
    {
      "cell_type": "code",
      "source": [],
      "metadata": {
        "colab": {
          "base_uri": "https://localhost:8080/"
        },
        "id": "WsGNOTCoZPsi",
        "outputId": "0f8183e8-b76b-4902-9ec5-96e5c1fbee61"
      },
      "id": "WsGNOTCoZPsi",
      "execution_count": null,
      "outputs": [
        {
          "output_type": "stream",
          "name": "stdout",
          "text": [
            "[[ 0.38268343 -0.92387953 10.68086512]\n",
            " [ 0.92387953  0.38268343 11.30445342]\n",
            " [ 0.          0.          1.        ]]\n"
          ]
        }
      ]
    },
    {
      "cell_type": "code",
      "source": [
        "# point written w.r.t fram 0 (Global frame)\n",
        "p_0= T03 @ e\n",
        "print(p_0) # the arm end"
      ],
      "metadata": {
        "colab": {
          "base_uri": "https://localhost:8080/"
        },
        "id": "f0Dhi8pWZltS",
        "outputId": "44d67a7e-690f-4b0d-b232-be054e439283"
      },
      "id": "f0Dhi8pWZltS",
      "execution_count": null,
      "outputs": [
        {
          "output_type": "stream",
          "name": "stdout",
          "text": [
            "[10.68086512 11.30445342  1.        ]\n"
          ]
        }
      ]
    },
    {
      "cell_type": "code",
      "source": [],
      "metadata": {
        "colab": {
          "base_uri": "https://localhost:8080/"
        },
        "id": "z7xTTYBDeV-Q",
        "outputId": "e37df465-8598-454c-b221-b62d5b9ca980"
      },
      "id": "z7xTTYBDeV-Q",
      "execution_count": null,
      "outputs": [
        {
          "output_type": "stream",
          "name": "stdout",
          "text": [
            "[[ 0.38268343 -0.92387953 10.68086512]\n",
            " [ 0.92387953  0.38268343 11.30445342]\n",
            " [ 0.          0.          1.        ]]\n"
          ]
        }
      ]
    },
    {
      "cell_type": "markdown",
      "id": "08eafd4c",
      "metadata": {
        "id": "08eafd4c"
      },
      "source": [
        "### Question 2\n",
        "\n",
        "Write the matrices that represent each local frame w.r.t. the global frame $\\mathcal F\\{0\\}$. The transformations you need to write are $T_{0,1}$, $T_{0,2}$, and $T_{0,3}$."
      ]
    },
    {
      "cell_type": "code",
      "execution_count": null,
      "id": "468d7a8a",
      "metadata": {
        "id": "468d7a8a"
      },
      "outputs": [],
      "source": [
        "# Answer goes here. Add more code/markdown cells as needed\n",
        "\n",
        "\n",
        "T03= T01 @ T12 @ T23\n",
        "print(T03)\n",
        "\n",
        "T02= T01 @ T12\n",
        "print(T02)\n",
        "\n",
        "print(T01)\n",
        "\n",
        "# point writen w.r.t Fram1\n",
        "e= np.array([0,0,1])\n",
        "T03= T01 @ T12 @ T23\n",
        "print(T03)\n",
        "\n"
      ]
    },
    {
      "cell_type": "markdown",
      "id": "dbfe60c7",
      "metadata": {
        "id": "dbfe60c7"
      },
      "source": [
        "### Question 3\n",
        "\n",
        "Write the matrices that represent the local coordinate frames $\\mathcal F\\{1\\}$, $\\mathcal F\\{2\\}$, and $\\mathcal F\\{3\\}$. These frames are indicated in green in Figure 1. The transformation matrices you need to write are $T_{0,1}$, $T_{1,2}$, and $T_{2,3}$."
      ]
    },
    {
      "cell_type": "code",
      "execution_count": null,
      "id": "bb0c3c41",
      "metadata": {
        "id": "bb0c3c41"
      },
      "outputs": [],
      "source": [
        "# Answer goes here. Add more code/markdown cells as needed\n",
        "\n",
        "\n"
      ]
    },
    {
      "cell_type": "markdown",
      "id": "80d5ab08",
      "metadata": {
        "id": "80d5ab08"
      },
      "source": [
        "### Question 4\n",
        "\n",
        "Using the transformations from the previous questions, calculate the global coordinates of the middle point of each part of the robot arm when $\\phi_1 = \\pi/8$ and $\\phi_2 = \\pi/4$. Hint: the location of the middle point of part 1 is $(\\frac{L_1}{2},0)^\\mathsf{T}$ (w.r.t. frame $\\mathcal F\\{1\\}$)."
      ]
    },
    {
      "cell_type": "code",
      "execution_count": null,
      "id": "39fc9399",
      "metadata": {
        "id": "39fc9399"
      },
      "outputs": [],
      "source": [
        "# Answer goes here. Add more code/markdown cells as needed\n",
        "\n",
        "\n",
        "\n",
        "\n"
      ]
    },
    {
      "cell_type": "markdown",
      "id": "7b1d733f",
      "metadata": {
        "id": "7b1d733f"
      },
      "source": [
        "### Question 5\n",
        "\n",
        "Using the transformations from the previous questions, calculate the global coordinates of all the joint points and the end-effector location when $\\phi_1 = \\pi/4$ and $\\phi_2 = \\pi/8$."
      ]
    },
    {
      "cell_type": "code",
      "execution_count": null,
      "id": "817e8a81",
      "metadata": {
        "id": "817e8a81"
      },
      "outputs": [],
      "source": [
        "# Answer goes here. Add more code/markdown cells as needed\n",
        "\n",
        "\n",
        "\n"
      ]
    },
    {
      "cell_type": "markdown",
      "id": "66b1cac7",
      "metadata": {
        "id": "66b1cac7"
      },
      "source": [
        "### Question 6\n",
        "\n",
        "Write the matrix that represents the coordinate frame of the end effector w.r.t. frame  $\\mathcal F\\{1\\}$, i.e., $T_{1,3}$"
      ]
    },
    {
      "cell_type": "code",
      "execution_count": null,
      "id": "cf5fb9dd",
      "metadata": {
        "id": "cf5fb9dd",
        "tags": []
      },
      "outputs": [],
      "source": [
        "# Answer goes here. Add more code/markdown cells as needed\n",
        "\n",
        "\n"
      ]
    },
    {
      "cell_type": "markdown",
      "id": "3a84cb79",
      "metadata": {
        "id": "3a84cb79"
      },
      "source": [
        "### Question 7\n",
        "\n",
        "Write the matrix that represents the coordinate frame $\\mathcal F\\{1\\}$ w.r.t. to the frame of the end effector"
      ]
    },
    {
      "cell_type": "code",
      "execution_count": null,
      "id": "b39f8800",
      "metadata": {
        "id": "b39f8800"
      },
      "outputs": [],
      "source": [
        "# Answer goes here. Add more code/markdown cells as needed\n",
        "\n",
        "\n"
      ]
    }
  ],
  "metadata": {
    "colab": {
      "provenance": [],
      "include_colab_link": true
    },
    "kernelspec": {
      "display_name": "Python 3",
      "language": "python",
      "name": "python3"
    },
    "language_info": {
      "codemirror_mode": {
        "name": "ipython",
        "version": 3
      },
      "file_extension": ".py",
      "mimetype": "text/x-python",
      "name": "python",
      "nbconvert_exporter": "python",
      "pygments_lexer": "ipython3",
      "version": "3.9.2"
    }
  },
  "nbformat": 4,
  "nbformat_minor": 5
}